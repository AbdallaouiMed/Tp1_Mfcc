{
 "cells": [
  {
   "cell_type": "code",
   "execution_count": null,
   "id": "a4f39f14",
   "metadata": {},
   "outputs": [],
   "source": [
    "import tkinter as tk\n",
    "from tkinter import filedialog\n",
    "import librosa\n",
    "import numpy as np\n"
   ]
  },
  {
   "cell_type": "code",
   "execution_count": null,
   "id": "e924743f",
   "metadata": {},
   "outputs": [],
   "source": [
    "\n",
    "# create a function to load the audio file\n",
    "def load_audio_file():\n",
    "    global audio_file_path, audio_signal, sample_rate\n",
    "    \n",
    "    # open a file dialog to select the audio file\n",
    "    audio_file_path = tk.filedialog.askopenfilename(defaultextension=\".wav\", filetypes=[(\"WAV files\", \"*.wav\")])\n",
    "    \n",
    "    # load the audio file using librosa\n",
    "    audio_signal, sample_rate = librosa.load(audio_file_path, sr=None)\n",
    "\n",
    "# create a function to apply MFCC to the audio signal\n",
    "def apply_mfcc():\n",
    "    global audio_signal, sample_rate, mfccs\n",
    "    \n",
    "    # calculate the MFCCs using librosa\n",
    "    mfccs = librosa.feature.mfcc(y=audio_signal, sr=sample_rate)\n",
    "\n",
    "# create a Tkinter window\n",
    "root = tk.Tk()\n",
    "root.title(\"Audio Processing\")\n",
    "\n",
    "# create a button to load the audio file\n",
    "load_button = tk.Button(root, text=\"Load Audio\", command=load_audio_file)\n",
    "load_button.pack()\n",
    "\n",
    "# create a button to apply MFCC to the audio signal\n",
    "mfcc_button = tk.Button(root, text=\"Apply MFCC\", command=apply_mfcc)\n",
    "mfcc_button.pack()\n",
    "\n",
    "# run the Tkinter event loop\n",
    "root.mainloop()\n"
   ]
  },
  {
   "cell_type": "code",
   "execution_count": null,
   "id": "b564b21e",
   "metadata": {},
   "outputs": [],
   "source": []
  }
 ],
 "metadata": {
  "kernelspec": {
   "display_name": "Python 3 (ipykernel)",
   "language": "python",
   "name": "python3"
  },
  "language_info": {
   "codemirror_mode": {
    "name": "ipython",
    "version": 3
   },
   "file_extension": ".py",
   "mimetype": "text/x-python",
   "name": "python",
   "nbconvert_exporter": "python",
   "pygments_lexer": "ipython3",
   "version": "3.9.13"
  }
 },
 "nbformat": 4,
 "nbformat_minor": 5
}
